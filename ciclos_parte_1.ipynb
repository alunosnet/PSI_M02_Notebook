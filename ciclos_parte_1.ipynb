{
 "cells": [
  {
   "cell_type": "markdown",
   "metadata": {},
   "source": [
    "# Ciclos for"
   ]
  },
  {
   "cell_type": "markdown",
   "metadata": {},
   "source": [
    "Estrutura de controlo de fluxo que permite a repetição de um bloco de código."
   ]
  },
  {
   "cell_type": "markdown",
   "metadata": {},
   "source": [
    "O ciclo é executado um determinado nº de vezes (iterações)"
   ]
  },
  {
   "cell_type": "code",
   "execution_count": null,
   "metadata": {},
   "outputs": [],
   "source": [
    "for i in range(10):\n",
    "    print(i)"
   ]
  },
  {
   "cell_type": "markdown",
   "metadata": {},
   "source": [
    "A função **range()** cria uma sequência de valores numéricos inteiros."
   ]
  },
  {
   "cell_type": "markdown",
   "metadata": {},
   "source": [
    "range(10) - Indica que a sequência começa em 0 e termina em 9"
   ]
  },
  {
   "cell_type": "code",
   "execution_count": null,
   "metadata": {},
   "outputs": [],
   "source": [
    "for i in range(5,10):\n",
    "    print(i)"
   ]
  },
  {
   "cell_type": "markdown",
   "metadata": {},
   "source": [
    "range(5,10) - Cria uma sequência entre 5 e 9"
   ]
  },
  {
   "cell_type": "code",
   "execution_count": null,
   "metadata": {},
   "outputs": [],
   "source": [
    "for i in range(1,20,2):\n",
    "    print(i)"
   ]
  },
  {
   "cell_type": "markdown",
   "metadata": {},
   "source": [
    "range(1,20,2) - Sequência que começa em 1 e termina em 19, com incrementos de 2 valores"
   ]
  },
  {
   "cell_type": "markdown",
   "metadata": {},
   "source": [
    "### Calcular o somatório de valores"
   ]
  },
  {
   "cell_type": "markdown",
   "metadata": {},
   "source": [
    "**Problema:** Pretendemos somar todos os valores entre 1 e 100."
   ]
  },
  {
   "cell_type": "markdown",
   "metadata": {},
   "source": [
    "Com um ciclo e a função **range()** podemos percorrer os valores mas precisamos de acumular a somas sucessivas dos valores. 0+1=1; 1+2 = 3; 2+3 = 5; 5+4=9;"
   ]
  },
  {
   "cell_type": "code",
   "execution_count": null,
   "metadata": {},
   "outputs": [],
   "source": [
    "soma = 0 # definimos a variável para guardar a soma\n",
    "#fazemos um ciclo para percorrer os valores a somar\n",
    "for i in range(1,101):\n",
    "    soma = soma + i # a variável soma guarda o valor das somas sucessivas\n",
    "print(soma) #resultado final"
   ]
  },
  {
   "cell_type": "markdown",
   "metadata": {},
   "source": [
    "### Calcular a soma de todos os valores entre dois indicados pelo utilizador"
   ]
  },
  {
   "cell_type": "markdown",
   "metadata": {},
   "source": [
    "**Problema:** Em vez de somar os 100 primeiros valores temos de perguntar ao utilizador qual o primeiro e qual o último valor."
   ]
  },
  {
   "cell_type": "code",
   "execution_count": null,
   "metadata": {},
   "outputs": [],
   "source": [
    "#Primeiro valor\n",
    "primeiro = int(input(\"Primeiro valor a somar:\"))\n",
    "#Último valor\n",
    "ultimo = int(input(\"Último valor a somar:\"))\n",
    "soma = 0\n",
    "for i in range(primeiro,ultimo+1):  #temos de somar 1 ao último valor para ser incluído\n",
    "    soma = soma + i\n",
    "print(soma)"
   ]
  },
  {
   "cell_type": "markdown",
   "metadata": {},
   "source": [
    "### Calcular a soma de n valores inseridos pelo utilizador"
   ]
  },
  {
   "cell_type": "markdown",
   "metadata": {},
   "source": [
    "**Problema:** Não sabemos quantos valores temos de somar e não sabemos quais os valores a somar. O utilizador primeiro indica quantos valores quer introduzir e de seguida insere os valores. No final o programa deve mostrar o resultado da soma."
   ]
  },
  {
   "cell_type": "code",
   "execution_count": null,
   "metadata": {},
   "outputs": [],
   "source": [
    "#Quantos nº vão ser inseridos\n",
    "nr_valores = int(input(\"Quantos valores pretende inserir:\"))\n",
    "soma = 0\n",
    "for i in range(nr_valores):\n",
    "    valor = int(input(\"Introduza um valor:\"))\n",
    "    soma = soma + valor\n",
    "print(\"A soma de todos os valores inseridos é \",soma)"
   ]
  },
  {
   "cell_type": "markdown",
   "metadata": {},
   "source": [
    "### Calcular a média de n valores inseridos pelo utilizador"
   ]
  },
  {
   "cell_type": "markdown",
   "metadata": {},
   "source": [
    "**Problema:** Não sabemos quais são os valores, nem quantos são, o utilizador tem de indicar esses valores. Para calcular a média o programa só necessita da soma e do nº de valores."
   ]
  },
  {
   "cell_type": "code",
   "execution_count": null,
   "metadata": {},
   "outputs": [],
   "source": [
    "#Quantos nº vão ser inseridos\n",
    "nr_valores = int(input(\"Quantos valores pretende inserir:\"))\n",
    "soma = 0\n",
    "for i in range(nr_valores):\n",
    "    valor = int(input(\"Introduza um valor:\"))\n",
    "    soma = soma + valor\n",
    "media = soma / nr_valores\n",
    "print(\"A média dos valores inseridos é \",media)"
   ]
  },
  {
   "cell_type": "markdown",
   "metadata": {},
   "source": [
    "### Mostrar a tabuada de um valor inserido pelo utilizador"
   ]
  },
  {
   "cell_type": "markdown",
   "metadata": {},
   "source": [
    "**Problema:** Pedir ao utilizador o valor da tabuada a mostrar. Calcular e mostrar a tabuada do valor de 1 a 10."
   ]
  },
  {
   "cell_type": "code",
   "execution_count": null,
   "metadata": {},
   "outputs": [],
   "source": [
    "#valor da tabuada a calcular\n",
    "valor = int(input(\"Qual a tabuada:\"))\n",
    "for i in range(1,11):\n",
    "    print(i,\"x\",valor,\"=\",i*valor)\n"
   ]
  },
  {
   "cell_type": "markdown",
   "metadata": {},
   "source": [
    "### Ler 10 valores do utilizador e mostrar o maior"
   ]
  },
  {
   "cell_type": "markdown",
   "metadata": {},
   "source": [
    "**Problema:** O utilizador vai inserir 10 valores e o programa deve mostrar o maior. Os valores podem ser positivos ou negativos."
   ]
  },
  {
   "cell_type": "code",
   "execution_count": null,
   "metadata": {},
   "outputs": [],
   "source": [
    "for i in range(10):\n",
    "    valor = int(input(\"Insira um valor (%d/10):\"%(i+1)))\n",
    "    #se é o primeiro valor então, para já, é o maior\n",
    "    if i==0:\n",
    "        maior = valor\n",
    "    else:   #se não é o primeiro valor temos de comparar com o maior\n",
    "        if valor > maior:\n",
    "            maior = valor\n",
    "\n",
    "print(\"O maior valor introduzido foi \",maior)"
   ]
  },
  {
   "cell_type": "markdown",
   "metadata": {},
   "source": [
    "### Percorrer um texto inserido pelo utilizador e contar quantas palavras tem"
   ]
  },
  {
   "cell_type": "markdown",
   "metadata": {},
   "source": [
    "**Problema:** O utilizador insere uma frase e o programa tem de contar quantas palavras tem (contar os espaços em branco)"
   ]
  },
  {
   "cell_type": "code",
   "execution_count": null,
   "metadata": {},
   "outputs": [],
   "source": [
    "texto = input(\"Introduza uma frase:\")\n",
    "conta = 0\n",
    "for letra in texto:\n",
    "    print(letra)\n",
    "    if letra == \" \":\n",
    "        conta = conta + 1\n",
    "print(\"Tem \",conta+1,\" palavras\") #Tem de ser mais 1 do que o nº de espaços em branco\n"
   ]
  },
  {
   "cell_type": "markdown",
   "metadata": {},
   "source": [
    "### Contar quantas vogais existem num texto"
   ]
  },
  {
   "cell_type": "markdown",
   "metadata": {},
   "source": [
    "**Problema:** O utilizador insere um texto e o programa deve contar quantas vogais existem"
   ]
  },
  {
   "cell_type": "code",
   "execution_count": null,
   "metadata": {},
   "outputs": [],
   "source": [
    "texto = input(\"Introduza um texto:\")\n",
    "contar = 0\n",
    "for letra in texto:\n",
    "    if letra in \"aeiou\":\n",
    "        contar = contar + 1\n",
    "print(\"A frase %s tem %d vogais\"%(texto,contar))"
   ]
  }
 ],
 "metadata": {
  "kernelspec": {
   "display_name": "Python 3",
   "language": "python",
   "name": "python3"
  },
  "language_info": {
   "codemirror_mode": {
    "name": "ipython",
    "version": 3
   },
   "file_extension": ".py",
   "mimetype": "text/x-python",
   "name": "python",
   "nbconvert_exporter": "python",
   "pygments_lexer": "ipython3",
   "version": "3.12.0"
  }
 },
 "nbformat": 4,
 "nbformat_minor": 2
}
