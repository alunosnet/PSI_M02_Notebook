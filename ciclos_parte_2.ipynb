{
 "cells": [
  {
   "cell_type": "markdown",
   "metadata": {},
   "source": [
    "# Ciclo While"
   ]
  },
  {
   "cell_type": "markdown",
   "metadata": {},
   "source": [
    "Estrutura que repete um bloco de código enquanto a condição indicada for verdadeira"
   ]
  },
  {
   "cell_type": "code",
   "execution_count": null,
   "metadata": {},
   "outputs": [],
   "source": [
    "i = 0\n",
    "while i<10:\n",
    "    print(i)\n",
    "    #Contador (vai incrementar o valor da variável i por 1)\n",
    "    i = i + 1\n",
    "print(\"Ciclo terminou!\")"
   ]
  },
  {
   "cell_type": "markdown",
   "metadata": {},
   "source": [
    "### Ciclos infinitos"
   ]
  },
  {
   "cell_type": "markdown",
   "metadata": {},
   "source": [
    "Ciclo em que a condição nunca deixa de ser verdadeira, ciclo nunca termina"
   ]
  },
  {
   "cell_type": "code",
   "execution_count": null,
   "metadata": {},
   "outputs": [],
   "source": [
    "i = 0\n",
    "while i<10:\n",
    "    print(i)\n",
    "    #ERRO: em vez de incrementar a variável i vamos decrementar\n",
    "    i = i - 1\n",
    "print(\"Ciclo terminou!\")"
   ]
  },
  {
   "cell_type": "markdown",
   "metadata": {},
   "source": [
    "### Validar dados inseridos pelo utilizador"
   ]
  },
  {
   "cell_type": "markdown",
   "metadata": {},
   "source": [
    "Uma utilização para este tipo de ciclos - fazer a validação dos dados do utilizador"
   ]
  },
  {
   "cell_type": "code",
   "execution_count": null,
   "metadata": {},
   "outputs": [],
   "source": [
    "dados_validos = False\n",
    "while dados_validos == False:\n",
    "    nome = input(\"Insira um nome (pelo menos 3 letras):\")\n",
    "    if len(nome)>=3:\n",
    "        dados_validos=True\n",
    "print(\"Nome fornecido %s\"%nome)"
   ]
  },
  {
   "cell_type": "markdown",
   "metadata": {},
   "source": [
    "### Interromper ciclo"
   ]
  },
  {
   "cell_type": "markdown",
   "metadata": {},
   "source": [
    "Como já foi referido em relação ao ciclo **for** é possível interromper um ciclo **while** com a instrução **break**"
   ]
  },
  {
   "cell_type": "code",
   "execution_count": null,
   "metadata": {},
   "outputs": [],
   "source": [
    "dados_validos=False\n",
    "while dados_validos==False:\n",
    "    str = input(\"Insira um número de 0 a 20:\")\n",
    "    numero = int(str)\n",
    "    if numero>=0 and numero<=20:\n",
    "        break\n",
    "print(\"Valor introduzido %d\"%numero)"
   ]
  },
  {
   "cell_type": "markdown",
   "metadata": {},
   "source": [
    "### Interromper a execução de uma iteração"
   ]
  },
  {
   "cell_type": "markdown",
   "metadata": {},
   "source": [
    "É possível interromper a execução de uma iteração do ciclo (for ou while) saltando a execução para o inicio do ciclo iniciando a próxima iteração com a instrução **continue**"
   ]
  },
  {
   "cell_type": "markdown",
   "metadata": {},
   "source": [
    "**Problema:** Calcular a média dos números pares. O utilizador insere dados até inserir 0 para parar."
   ]
  },
  {
   "cell_type": "code",
   "execution_count": null,
   "metadata": {},
   "outputs": [],
   "source": [
    "soma = 0\n",
    "valor = 1\n",
    "contar = 0\n",
    "while valor !=0:\n",
    "    valor = int(input(\"Insira um valor: \"))\n",
    "    if valor == 0:\n",
    "        break\n",
    "    if valor % 2 != 0:\n",
    "        continue\n",
    "    soma = soma + valor\n",
    "    contar = contar + 1\n",
    "media = soma / contar\n",
    "print(\"A média dos valores pares é %.2f\"%media)"
   ]
  },
  {
   "cell_type": "markdown",
   "metadata": {},
   "source": [
    "## Instrução **ELSE** em ciclos"
   ]
  },
  {
   "cell_type": "markdown",
   "metadata": {},
   "source": [
    "Também os ciclo while podem incluir um **else** para executar código quando o ciclo termina sem que seja interrompido com um **break**"
   ]
  },
  {
   "cell_type": "code",
   "execution_count": null,
   "metadata": {},
   "outputs": [],
   "source": [
    "soma = 0\n",
    "for i in range(10):\n",
    "    valor = int(input(\"Introduza um valor (ou 0 para interromper):\"))\n",
    "    if valor==0:\n",
    "        break\n",
    "    soma = soma + valor\n",
    "else:\n",
    "    print(\"Soma dos valores: %d\"%soma)\n"
   ]
  },
  {
   "cell_type": "code",
   "execution_count": null,
   "metadata": {},
   "outputs": [],
   "source": [
    "soma = 0\n",
    "contar = 0\n",
    "while soma < 100 and contar < 10:\n",
    "    valor = int(input(\"Introduza um valor (ou 0 para interromper):\"))\n",
    "    if valor == 0:\n",
    "        break\n",
    "    soma = soma + valor\n",
    "    contar = contar + 1\n",
    "else:\n",
    "    print(\"Soma dos %d valores é de %d\"%(contar,soma))"
   ]
  }
 ],
 "metadata": {
  "kernelspec": {
   "display_name": "Python 3",
   "language": "python",
   "name": "python3"
  },
  "language_info": {
   "codemirror_mode": {
    "name": "ipython",
    "version": 3
   },
   "file_extension": ".py",
   "mimetype": "text/x-python",
   "name": "python",
   "nbconvert_exporter": "python",
   "pygments_lexer": "ipython3",
   "version": "3.10.11"
  }
 },
 "nbformat": 4,
 "nbformat_minor": 2
}
