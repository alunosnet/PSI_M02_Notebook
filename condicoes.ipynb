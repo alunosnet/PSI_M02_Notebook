{
 "cells": [
  {
   "cell_type": "markdown",
   "metadata": {},
   "source": [
    "# Estruturas de decisão ou seleção"
   ]
  },
  {
   "cell_type": "markdown",
   "metadata": {},
   "source": [
    "Este tipo de estruturas permite alterar o modo como o código é executado, definindo blocos de código que são executados com base em condições."
   ]
  },
  {
   "cell_type": "markdown",
   "metadata": {},
   "source": [
    "Para definir as condições devem ser utilizados os operadores relacionais ou de comparação."
   ]
  },
  {
   "cell_type": "markdown",
   "metadata": {},
   "source": [
    "## Estrutura de decisão/seleção simples"
   ]
  },
  {
   "cell_type": "markdown",
   "metadata": {},
   "source": [
    "Nesta situação um bloco de código só será executado caso uma determinada condição resulte ser verdadeira (True)."
   ]
  },
  {
   "cell_type": "code",
   "execution_count": null,
   "metadata": {},
   "outputs": [],
   "source": [
    "nome = input(\"Introduza o seu nome:\")\n",
    "peso =float(input(\"Introduza o seu peso:\"))\n",
    "if peso < 70:\n",
    "    dif = 70 - peso\n",
    "    print(\"Falta ao %s %.2f Kg para atingir os 70Kg\"%(nome,dif))\n",
    "print(\"O programa vai terminar\")"
   ]
  },
  {
   "cell_type": "markdown",
   "metadata": {},
   "source": [
    "## Estrutura de decisão/seleção composta"
   ]
  },
  {
   "cell_type": "markdown",
   "metadata": {},
   "source": [
    "Nesta estrutura existe um bloco de código que é executado caso a condição resulte verdadeira (True) e outro bloco de código que será executado caso a condição resulte falsa (False)"
   ]
  },
  {
   "cell_type": "code",
   "execution_count": null,
   "metadata": {},
   "outputs": [],
   "source": [
    "num1 = int(input(\"Introduza um valor inteiro:\"))\n",
    "num2 = int(input(\"Introduza um valor inteiro, diferente do anterior:\"))\n",
    "if num1 > num2:\n",
    "    maior = num1\n",
    "else:\n",
    "    maior = num2\n",
    "print(\"O maior dos dois números é %d\"%maior)"
   ]
  },
  {
   "cell_type": "markdown",
   "metadata": {},
   "source": [
    "## Estrutura de seleção encadeada"
   ]
  },
  {
   "cell_type": "markdown",
   "metadata": {},
   "source": [
    "Esta estrutura permite testar sucessivamente várias condições."
   ]
  },
  {
   "cell_type": "code",
   "execution_count": null,
   "metadata": {},
   "outputs": [],
   "source": [
    "num1 = int(input(\"Introduza um valor inteiro:\"))\n",
    "num2 = int(input(\"Introduza um valor inteiro:\"))\n",
    "if num1 == num2:\n",
    "    print(\"Valores são iguais\")\n",
    "elif num1>num2:\n",
    "    print(\"%d é maior do que %d\"%(num1,num2))\n",
    "else:\n",
    "    print(\"%d é maior do que %d\"%(num2,num1))"
   ]
  },
  {
   "cell_type": "markdown",
   "metadata": {},
   "source": [
    "## Estrutura de seleção múltipla"
   ]
  },
  {
   "cell_type": "markdown",
   "metadata": {},
   "source": [
    "Esta estrutura só é válida para a versão 3.10 ou superior do Python"
   ]
  },
  {
   "cell_type": "code",
   "execution_count": null,
   "metadata": {},
   "outputs": [],
   "source": [
    "dia = int(input(\"Insira um número inteiro de 1 a 7:\"))\n",
    "match dia:\n",
    "    case 1:\n",
    "        print(\"Segunda-feira\")\n",
    "    case 2:\n",
    "        print(\"Terça-feira\")\n",
    "    case 3:\n",
    "        print(\"Quarta-feira\")\n",
    "    case 4:\n",
    "        print(\"Quinta-feira\")\n",
    "    case 5:\n",
    "        print(\"Sexta-feira\")\n",
    "    case 6:\n",
    "        print(\"Sábado\")\n",
    "    case 7:\n",
    "        print(\"Domingo\")\n",
    "    case _:\n",
    "        print(\"O valor indicado não é válido\")"
   ]
  },
  {
   "cell_type": "markdown",
   "metadata": {},
   "source": [
    "## Operadores is e in"
   ]
  },
  {
   "cell_type": "markdown",
   "metadata": {},
   "source": [
    "O operador **in** permite testar se um valor existe num conjunto, por exemplo se uma letra existe numa string (texto)"
   ]
  },
  {
   "cell_type": "code",
   "execution_count": null,
   "metadata": {},
   "outputs": [],
   "source": [
    "nome = \"Joaquim\"\n",
    "if \"J\" in nome:\n",
    "    print(\"O nome tem um j\")\n",
    "else:\n",
    "    print(\"O nome NÃO tem um j\")"
   ]
  },
  {
   "cell_type": "markdown",
   "metadata": {},
   "source": [
    "Cuidado com as maiúsculas e as minúsculas"
   ]
  },
  {
   "cell_type": "markdown",
   "metadata": {},
   "source": [
    "O operador is permite testar se uma variável é de um determinado tipo."
   ]
  },
  {
   "cell_type": "code",
   "execution_count": null,
   "metadata": {},
   "outputs": [],
   "source": [
    "x = 5\n",
    "if type(x) is int:\n",
    "    print(\"X é um inteiro\")\n",
    "else:\n",
    "    print(\"X não é um inteiro\")"
   ]
  },
  {
   "cell_type": "markdown",
   "metadata": {},
   "source": [
    "Podemos testar o falso com o operador not"
   ]
  },
  {
   "cell_type": "code",
   "execution_count": null,
   "metadata": {},
   "outputs": [],
   "source": [
    "x = None\n",
    "if x is not None:\n",
    "    print(x)\n",
    "else:\n",
    "    print(\"X está vazio\")"
   ]
  },
  {
   "cell_type": "markdown",
   "metadata": {},
   "source": [
    "## Validar dados numéricos indicados pelo utilizador "
   ]
  },
  {
   "cell_type": "markdown",
   "metadata": {},
   "source": [
    "Um problema comum em programação acontece quando o programa solicita um valor numérico ao utilizador e este pode sempre escrever qualquer coisa."
   ]
  },
  {
   "cell_type": "code",
   "execution_count": null,
   "metadata": {},
   "outputs": [],
   "source": [
    "dados = input(\"Indique a sua idade:\")\n",
    "if dados.isdigit()==False:\n",
    "    print(\"Os dados indicados não são válidos\")\n",
    "else:\n",
    "    idade=int(dados)\n",
    "    if  idade>120:\n",
    "        print(\"A idade indicada não é válida.\")\n",
    "    else:\n",
    "        print(\"Dados válidos\")\n"
   ]
  },
  {
   "cell_type": "markdown",
   "metadata": {},
   "source": [
    "Esta solução pode ser melhorada para aceitar valores negativos."
   ]
  },
  {
   "cell_type": "code",
   "execution_count": null,
   "metadata": {},
   "outputs": [],
   "source": [
    "dados = input(\"Indique um valor entre -10 e 10\")\n",
    "if dados.isdigit() or (dados.startswith(\"-\") and dados[1:].isdigit()):\n",
    "    valor = int(dados)\n",
    "    if valor<-10 or valor>10:\n",
    "        print(\"Valor não está dentro do limite\")\n",
    "    else:\n",
    "        print(\"Valor indicado %d\"%valor)\n",
    "else:\n",
    "    print(\"Dados indicados não são válidos.\")"
   ]
  }
 ],
 "metadata": {
  "kernelspec": {
   "display_name": "Python 3",
   "language": "python",
   "name": "python3"
  },
  "language_info": {
   "codemirror_mode": {
    "name": "ipython",
    "version": 3
   },
   "file_extension": ".py",
   "mimetype": "text/x-python",
   "name": "python",
   "nbconvert_exporter": "python",
   "pygments_lexer": "ipython3",
   "version": "3.12.7"
  }
 },
 "nbformat": 4,
 "nbformat_minor": 2
}
